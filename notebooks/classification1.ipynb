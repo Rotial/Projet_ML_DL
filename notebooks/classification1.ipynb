{
 "cells": [
  {
   "cell_type": "markdown",
   "id": "c21a046c-cfe2-44c7-965c-6f2fca5f0e8a",
   "metadata": {},
   "source": [
    "# Arbre de décision : Prédire le salaire en fonction du poste, de l'entreprise et du diplôme"
   ]
  },
  {
   "cell_type": "code",
   "execution_count": 1,
   "id": "7f1a61ae-347d-4e53-b91a-e4238b7c6c78",
   "metadata": {},
   "outputs": [],
   "source": [
    "import pandas as pd\n",
    "from sklearn.tree import DecisionTreeClassifier\n",
    "from sklearn.model_selection import train_test_split\n",
    "from sklearn import metrics "
   ]
  },
  {
   "cell_type": "code",
   "execution_count": 4,
   "id": "7712d92c-c2fe-4dc0-82ab-1a208e085510",
   "metadata": {},
   "outputs": [],
   "source": [
    "#working with the dataset here\n",
    "\n",
    "col_names = ['company', 'job', 'degree', 'salary_more_than_100K']\n",
    "data = pd.read_csv ('C:/DataProjets/ProjetData1/data/salaries.csv', header=None, names=col_names)#load dataset"
   ]
  },
  {
   "cell_type": "code",
   "execution_count": 5,
   "id": "6e421f20-1662-4f27-9f2c-82095a792b61",
   "metadata": {},
   "outputs": [
    {
     "data": {
      "text/html": [
       "<div>\n",
       "<style scoped>\n",
       "    .dataframe tbody tr th:only-of-type {\n",
       "        vertical-align: middle;\n",
       "    }\n",
       "\n",
       "    .dataframe tbody tr th {\n",
       "        vertical-align: top;\n",
       "    }\n",
       "\n",
       "    .dataframe thead th {\n",
       "        text-align: right;\n",
       "    }\n",
       "</style>\n",
       "<table border=\"1\" class=\"dataframe\">\n",
       "  <thead>\n",
       "    <tr style=\"text-align: right;\">\n",
       "      <th></th>\n",
       "      <th>company</th>\n",
       "      <th>job</th>\n",
       "      <th>degree</th>\n",
       "      <th>salary_more_than_100K</th>\n",
       "    </tr>\n",
       "  </thead>\n",
       "  <tbody>\n",
       "    <tr>\n",
       "      <th>0</th>\n",
       "      <td>company</td>\n",
       "      <td>job</td>\n",
       "      <td>degree</td>\n",
       "      <td>salary_more_then_100k</td>\n",
       "    </tr>\n",
       "    <tr>\n",
       "      <th>1</th>\n",
       "      <td>google</td>\n",
       "      <td>sale exective</td>\n",
       "      <td>bachelaors</td>\n",
       "      <td>0</td>\n",
       "    </tr>\n",
       "    <tr>\n",
       "      <th>2</th>\n",
       "      <td>google</td>\n",
       "      <td>sale exective</td>\n",
       "      <td>masters</td>\n",
       "      <td>0</td>\n",
       "    </tr>\n",
       "    <tr>\n",
       "      <th>3</th>\n",
       "      <td>google</td>\n",
       "      <td>business manager</td>\n",
       "      <td>bachelaors</td>\n",
       "      <td>1</td>\n",
       "    </tr>\n",
       "    <tr>\n",
       "      <th>4</th>\n",
       "      <td>google</td>\n",
       "      <td>business manager</td>\n",
       "      <td>masters</td>\n",
       "      <td>1</td>\n",
       "    </tr>\n",
       "    <tr>\n",
       "      <th>5</th>\n",
       "      <td>google</td>\n",
       "      <td>computer programmer</td>\n",
       "      <td>bachelaors</td>\n",
       "      <td>0</td>\n",
       "    </tr>\n",
       "    <tr>\n",
       "      <th>6</th>\n",
       "      <td>google</td>\n",
       "      <td>computer programmer</td>\n",
       "      <td>masters</td>\n",
       "      <td>1</td>\n",
       "    </tr>\n",
       "    <tr>\n",
       "      <th>7</th>\n",
       "      <td>abc pharma</td>\n",
       "      <td>sale exective</td>\n",
       "      <td>masters</td>\n",
       "      <td>0</td>\n",
       "    </tr>\n",
       "    <tr>\n",
       "      <th>8</th>\n",
       "      <td>abc pharma</td>\n",
       "      <td>computer programmer</td>\n",
       "      <td>bachelaors</td>\n",
       "      <td>0</td>\n",
       "    </tr>\n",
       "    <tr>\n",
       "      <th>9</th>\n",
       "      <td>abc pharma</td>\n",
       "      <td>business manager</td>\n",
       "      <td>bachelaors</td>\n",
       "      <td>0</td>\n",
       "    </tr>\n",
       "    <tr>\n",
       "      <th>10</th>\n",
       "      <td>abc pharma</td>\n",
       "      <td>business manager</td>\n",
       "      <td>masters</td>\n",
       "      <td>1</td>\n",
       "    </tr>\n",
       "    <tr>\n",
       "      <th>11</th>\n",
       "      <td>facebook</td>\n",
       "      <td>sale exective</td>\n",
       "      <td>bachelaors</td>\n",
       "      <td>1</td>\n",
       "    </tr>\n",
       "    <tr>\n",
       "      <th>12</th>\n",
       "      <td>facebook</td>\n",
       "      <td>sale exective</td>\n",
       "      <td>masters</td>\n",
       "      <td>1</td>\n",
       "    </tr>\n",
       "    <tr>\n",
       "      <th>13</th>\n",
       "      <td>facebook</td>\n",
       "      <td>business manager</td>\n",
       "      <td>bachelaors</td>\n",
       "      <td>1</td>\n",
       "    </tr>\n",
       "    <tr>\n",
       "      <th>14</th>\n",
       "      <td>facebook</td>\n",
       "      <td>business manager</td>\n",
       "      <td>masters</td>\n",
       "      <td>1</td>\n",
       "    </tr>\n",
       "    <tr>\n",
       "      <th>15</th>\n",
       "      <td>facebook</td>\n",
       "      <td>computer programmer</td>\n",
       "      <td>bachelaors</td>\n",
       "      <td>1</td>\n",
       "    </tr>\n",
       "    <tr>\n",
       "      <th>16</th>\n",
       "      <td>facebook</td>\n",
       "      <td>computer programmer</td>\n",
       "      <td>masters</td>\n",
       "      <td>1</td>\n",
       "    </tr>\n",
       "  </tbody>\n",
       "</table>\n",
       "</div>"
      ],
      "text/plain": [
       "       company                  job      degree  salary_more_than_100K\n",
       "0      company                  job      degree  salary_more_then_100k\n",
       "1       google        sale exective  bachelaors                      0\n",
       "2       google        sale exective     masters                      0\n",
       "3       google     business manager  bachelaors                      1\n",
       "4       google     business manager     masters                      1\n",
       "5       google  computer programmer  bachelaors                      0\n",
       "6       google  computer programmer     masters                      1\n",
       "7   abc pharma        sale exective     masters                      0\n",
       "8   abc pharma  computer programmer  bachelaors                      0\n",
       "9   abc pharma     business manager  bachelaors                      0\n",
       "10  abc pharma     business manager     masters                      1\n",
       "11    facebook        sale exective  bachelaors                      1\n",
       "12    facebook        sale exective     masters                      1\n",
       "13    facebook     business manager  bachelaors                      1\n",
       "14    facebook     business manager     masters                      1\n",
       "15    facebook  computer programmer  bachelaors                      1\n",
       "16    facebook  computer programmer     masters                      1"
      ]
     },
     "execution_count": 5,
     "metadata": {},
     "output_type": "execute_result"
    }
   ],
   "source": [
    "data"
   ]
  },
  {
   "cell_type": "code",
   "execution_count": null,
   "id": "047e8793-561b-4b6c-86e1-d250a85afd3e",
   "metadata": {},
   "outputs": [],
   "source": [
    "#split the dataset in features and target variable\n",
    "feature_cols = ['company', 'job', 'degree']#caractéristiques\n",
    "x = data[feature_cols]#variables indépendantes\n",
    "y = data['salary_more_than_100K']#variables cibles"
   ]
  },
  {
   "cell_type": "markdown",
   "id": "e5d9493b-70f2-4ed7-b23c-c9177c0b1eda",
   "metadata": {},
   "source": [
    "## Le Machine Learning ne fonctionne qu'avec des données numériques, nous devons donc convertir "
   ]
  },
  {
   "cell_type": "code",
   "execution_count": 6,
   "id": "d2991c55-cbc5-4483-952d-163570d2cb6d",
   "metadata": {},
   "outputs": [
    {
     "name": "stdout",
     "output_type": "stream",
     "text": [
      "   company  job  degree  salary_more_than_100K\n",
      "0        1    2       1  salary_more_then_100k\n",
      "1        3    3       0                      0\n",
      "2        3    3       2                      0\n",
      "3        3    0       0                      1\n",
      "4        3    0       2                      1\n"
     ]
    }
   ],
   "source": [
    "#Import label encoder\n",
    "from sklearn import preprocessing\n",
    "label_encoder = preprocessing.LabelEncoder()# LabelEncoder est utilisé pour convertir des étiquettes textuelles en valeurs numériques\n",
    "data['company'] = label_encoder.fit_transform(data['company'])\n",
    "data['job'] = label_encoder.fit_transform(data['job'])\n",
    "data['degree'] = label_encoder.fit_transform(data['degree'])\n",
    "print(data.head())"
   ]
  },
  {
   "cell_type": "code",
   "execution_count": 7,
   "id": "4a673e99-384a-4408-8982-63ca29f8c4af",
   "metadata": {},
   "outputs": [
    {
     "name": "stdout",
     "output_type": "stream",
     "text": [
      "    company  job  degree\n",
      "0         1    2       1\n",
      "1         3    3       0\n",
      "2         3    3       2\n",
      "3         3    0       0\n",
      "4         3    0       2\n",
      "5         3    1       0\n",
      "6         3    1       2\n",
      "7         0    3       2\n",
      "8         0    1       0\n",
      "9         0    0       0\n",
      "10        0    0       2\n",
      "11        2    3       0\n",
      "12        2    3       2\n",
      "13        2    0       0\n",
      "14        2    0       2\n",
      "15        2    1       0\n",
      "16        2    1       2\n",
      "0     salary_more_then_100k\n",
      "1                         0\n",
      "2                         0\n",
      "3                         1\n",
      "4                         1\n",
      "5                         0\n",
      "6                         1\n",
      "7                         0\n",
      "8                         0\n",
      "9                         0\n",
      "10                        1\n",
      "11                        1\n",
      "12                        1\n",
      "13                        1\n",
      "14                        1\n",
      "15                        1\n",
      "16                        1\n",
      "Name: salary_more_than_100K, dtype: object\n"
     ]
    }
   ],
   "source": [
    "#split the dataset in features and target variable\n",
    "feature_cols = ['company', 'job', 'degree']\n",
    "x = data[feature_cols]\n",
    "y = data['salary_more_than_100K']\n",
    "#x= = data.values[1:,:3]\n",
    "#y = data.values[1:, 3] #1:, 3 one means we are not using the header\n",
    "print(x)\n",
    "print(y)"
   ]
  },
  {
   "cell_type": "code",
   "execution_count": 8,
   "id": "362a211c-3803-48e0-956b-aa31f13b75b4",
   "metadata": {},
   "outputs": [],
   "source": [
    "x_train, x_test, y_train, y_test = train_test_split(x,y, test_size=0.2, random_state=100)"
   ]
  },
  {
   "cell_type": "markdown",
   "id": "b27b2994-8fd4-4b0a-a7a1-80ea369ccb14",
   "metadata": {},
   "source": [
    "## Prédiction et précision de résultat"
   ]
  },
  {
   "cell_type": "code",
   "execution_count": 16,
   "id": "3fc973af-f65c-465b-8e13-da193cb73f10",
   "metadata": {},
   "outputs": [],
   "source": [
    "#Create Decision Tree Classifier object using entropy\n",
    "clf_entropy = DecisionTreeClassifier(criterion='entropy', max_depth=8)# 'max_depth=8' limits maximum tree depth to 8 levels\n",
    "\n",
    "#Train Decision Tree Classifier\n",
    "clf_entropy = clf_entropy.fit(x_train, y_train)"
   ]
  },
  {
   "cell_type": "code",
   "execution_count": 17,
   "id": "d08f13a3-af81-4e72-ac17-fdbf0883503a",
   "metadata": {},
   "outputs": [
    {
     "name": "stdout",
     "output_type": "stream",
     "text": [
      "Accuracy 0.75\n"
     ]
    }
   ],
   "source": [
    "#Predict the response for test dataset\n",
    "y_pred = clf_entropy.predict(x_test)\n",
    "\n",
    "print(\"Accuracy\", metrics.accuracy_score(y_test,y_pred))\n",
    "# 'metrics.accuracy_score' compare les prédictions (y_pred) aux vraies étiquettes (y_test)\n",
    "# Le résultat est un score entre 0 et 1, où 1 indique une précision parfaite"
   ]
  },
  {
   "cell_type": "code",
   "execution_count": 19,
   "id": "ca92e758-5d34-4ab0-979e-fd03d0aa790f",
   "metadata": {},
   "outputs": [],
   "source": [
    "#75%  de réussite seulement pour notre modèle"
   ]
  }
 ],
 "metadata": {
  "kernelspec": {
   "display_name": "Python 3 (ipykernel)",
   "language": "python",
   "name": "python3"
  },
  "language_info": {
   "codemirror_mode": {
    "name": "ipython",
    "version": 3
   },
   "file_extension": ".py",
   "mimetype": "text/x-python",
   "name": "python",
   "nbconvert_exporter": "python",
   "pygments_lexer": "ipython3",
   "version": "3.9.20"
  }
 },
 "nbformat": 4,
 "nbformat_minor": 5
}
